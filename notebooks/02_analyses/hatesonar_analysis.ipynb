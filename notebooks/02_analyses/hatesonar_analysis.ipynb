{
 "cells": [
  {
   "cell_type": "markdown",
   "metadata": {},
   "source": [
    "# HateSonar Analysis\n",
    "\n",
    "This notebook ingests the preprocessed data from `../interim/metadata` downloaded by `download_datasets.ipynb` and quantifies the levels of hate speech or offensive language in each of the emails.\n",
    "\n",
    "Finally, the analyses are merged and saved as a single csv file that is pushed to remote storage."
   ]
  },
  {
   "cell_type": "code",
   "execution_count": 5,
   "metadata": {
    "ExecuteTime": {
     "end_time": "2021-03-15T19:58:26.679969Z",
     "start_time": "2021-03-15T19:58:26.674826Z"
    }
   },
   "outputs": [],
   "source": [
    "import pandas as pd\n",
    "import os\n",
    "import datetime\n",
    "import re\n",
    "from pathlib import Path\n",
    "from dotenv import load_dotenv\n",
    "from hatesonar import Sonar\n",
    "\n",
    "load_dotenv(\"../../.env\")\n",
    "\n",
    "import sys\n",
    "\n",
    "sys.path.append(\"../..\")\n",
    "from src import utils"
   ]
  },
  {
   "cell_type": "code",
   "execution_count": 6,
   "metadata": {
    "ExecuteTime": {
     "end_time": "2021-03-15T19:58:27.342499Z",
     "start_time": "2021-03-15T19:58:27.338910Z"
    }
   },
   "outputs": [],
   "source": [
    "BASE_PATH = os.getenv(\"LOCAL_DATA_PATH\", \"../../data/\")"
   ]
  },
  {
   "cell_type": "code",
   "execution_count": 7,
   "metadata": {
    "ExecuteTime": {
     "end_time": "2021-03-15T19:58:31.252747Z",
     "start_time": "2021-03-15T19:58:28.055711Z"
    }
   },
   "outputs": [],
   "source": [
    "df = utils.load_dataset(f\"{BASE_PATH}/interim/text/\")"
   ]
  },
  {
   "cell_type": "code",
   "execution_count": 8,
   "metadata": {
    "ExecuteTime": {
     "end_time": "2021-03-15T19:58:31.907409Z",
     "start_time": "2021-03-15T19:58:31.889253Z"
    }
   },
   "outputs": [
    {
     "data": {
      "text/html": [
       "<div>\n",
       "<style scoped>\n",
       "    .dataframe tbody tr th:only-of-type {\n",
       "        vertical-align: middle;\n",
       "    }\n",
       "\n",
       "    .dataframe tbody tr th {\n",
       "        vertical-align: top;\n",
       "    }\n",
       "\n",
       "    .dataframe thead th {\n",
       "        text-align: right;\n",
       "    }\n",
       "</style>\n",
       "<table border=\"1\" class=\"dataframe\">\n",
       "  <thead>\n",
       "    <tr style=\"text-align: right;\">\n",
       "      <th></th>\n",
       "      <th>Message-ID</th>\n",
       "      <th>Date</th>\n",
       "      <th>Body</th>\n",
       "    </tr>\n",
       "  </thead>\n",
       "  <tbody>\n",
       "    <tr>\n",
       "      <th>0</th>\n",
       "      <td>&lt;23f4b2992626d689b84a704a575d974cc794709e.came...</td>\n",
       "      <td>Fri, 31 Jul 2020 18:41:49 -0600</td>\n",
       "      <td>['On Fri, 2020-07-31 at 19:26 +0100, Richard W...</td>\n",
       "    </tr>\n",
       "    <tr>\n",
       "      <th>1</th>\n",
       "      <td>&lt;CAB_b4sBOn9Bisre7D3pUrDmH9+3unoP5VaeRGi031ks3...</td>\n",
       "      <td>Sat, 01 Aug 2020 11:07:52 +0800</td>\n",
       "      <td>['Jerry James &lt;loganjerry(a)gmail.com&gt; =E4=BA=...</td>\n",
       "    </tr>\n",
       "    <tr>\n",
       "      <th>2</th>\n",
       "      <td>&lt;CAJP_izdx=xTviDd4piWMLvxua7Ti8wD81kwqFEB7ucbG...</td>\n",
       "      <td>Sat, 01 Aug 2020 03:25:48 -0400</td>\n",
       "      <td>['libcroco was retired on Rawhide, but the lib...</td>\n",
       "    </tr>\n",
       "    <tr>\n",
       "      <th>3</th>\n",
       "      <td>&lt;rg3f65$16fd$1@ciao.gmane.io&gt;</td>\n",
       "      <td>Sat, 01 Aug 2020 12:12:21 +0200</td>\n",
       "      <td>['Hi,\\n\\nseeing the amount of fallout from LTO...</td>\n",
       "    </tr>\n",
       "    <tr>\n",
       "      <th>4</th>\n",
       "      <td>&lt;rg3fi2$ipa$1@ciao.gmane.io&gt;</td>\n",
       "      <td>Sat, 01 Aug 2020 12:18:41 +0200</td>\n",
       "      <td>['Neal Gompa wrote:\\n&gt; I think it does have va...</td>\n",
       "    </tr>\n",
       "  </tbody>\n",
       "</table>\n",
       "</div>"
      ],
      "text/plain": [
       "                                          Message-ID  \\\n",
       "0  <23f4b2992626d689b84a704a575d974cc794709e.came...   \n",
       "1  <CAB_b4sBOn9Bisre7D3pUrDmH9+3unoP5VaeRGi031ks3...   \n",
       "2  <CAJP_izdx=xTviDd4piWMLvxua7Ti8wD81kwqFEB7ucbG...   \n",
       "3                      <rg3f65$16fd$1@ciao.gmane.io>   \n",
       "4                       <rg3fi2$ipa$1@ciao.gmane.io>   \n",
       "\n",
       "                              Date  \\\n",
       "0  Fri, 31 Jul 2020 18:41:49 -0600   \n",
       "1  Sat, 01 Aug 2020 11:07:52 +0800   \n",
       "2  Sat, 01 Aug 2020 03:25:48 -0400   \n",
       "3  Sat, 01 Aug 2020 12:12:21 +0200   \n",
       "4  Sat, 01 Aug 2020 12:18:41 +0200   \n",
       "\n",
       "                                                Body  \n",
       "0  ['On Fri, 2020-07-31 at 19:26 +0100, Richard W...  \n",
       "1  ['Jerry James <loganjerry(a)gmail.com> =E4=BA=...  \n",
       "2  ['libcroco was retired on Rawhide, but the lib...  \n",
       "3  ['Hi,\\n\\nseeing the amount of fallout from LTO...  \n",
       "4  ['Neal Gompa wrote:\\n> I think it does have va...  "
      ]
     },
     "execution_count": 8,
     "metadata": {},
     "output_type": "execute_result"
    }
   ],
   "source": [
    "df.head()"
   ]
  },
  {
   "cell_type": "code",
   "execution_count": 9,
   "metadata": {
    "ExecuteTime": {
     "end_time": "2021-03-15T19:58:34.245350Z",
     "start_time": "2021-03-15T19:58:33.015240Z"
    },
    "scrolled": true
   },
   "outputs": [
    {
     "name": "stderr",
     "output_type": "stream",
     "text": [
      "2021-03-15 19:58:33,653 [2390] WARNING  py.warnings: /opt/app-root/lib/python3.6/site-packages/sklearn/base.py:253: UserWarning: Trying to unpickle estimator LogisticRegression from version 0.19.1 when using version 0.20.3. This might lead to breaking code or invalid results. Use at your own risk.\n",
      "  UserWarning)\n",
      "\n",
      "2021-03-15 19:58:33,662 [2390] WARNING  py.warnings: /opt/app-root/lib/python3.6/site-packages/sklearn/base.py:253: UserWarning: Trying to unpickle estimator TfidfTransformer from version 0.19.1 when using version 0.20.3. This might lead to breaking code or invalid results. Use at your own risk.\n",
      "  UserWarning)\n",
      "\n",
      "2021-03-15 19:58:34,239 [2390] WARNING  py.warnings: /opt/app-root/lib/python3.6/site-packages/sklearn/base.py:253: UserWarning: Trying to unpickle estimator TfidfVectorizer from version 0.19.1 when using version 0.20.3. This might lead to breaking code or invalid results. Use at your own risk.\n",
      "  UserWarning)\n",
      "\n"
     ]
    }
   ],
   "source": [
    "sonar = Sonar()"
   ]
  },
  {
   "cell_type": "code",
   "execution_count": 10,
   "metadata": {
    "ExecuteTime": {
     "end_time": "2021-03-15T19:58:36.484763Z",
     "start_time": "2021-03-15T19:58:36.478682Z"
    }
   },
   "outputs": [],
   "source": [
    "def speech(n):\n",
    "    #sonar = Sonar()\n",
    "    t = sonar.ping(text=n)\n",
    "    top = t[\"top_class\"]\n",
    "    hate = t[\"classes\"][0][\"confidence\"]\n",
    "    off = t[\"classes\"][1][\"confidence\"]\n",
    "    neither = t[\"classes\"][2][\"confidence\"]\n",
    "    return [top, hate, off, neither]\n",
    "\n",
    "def get_val(val):\n",
    "    return val[loc]"
   ]
  },
  {
   "cell_type": "code",
   "execution_count": 11,
   "metadata": {
    "ExecuteTime": {
     "end_time": "2021-03-15T19:59:48.335095Z",
     "start_time": "2021-03-15T19:58:37.269438Z"
    }
   },
   "outputs": [],
   "source": [
    "df[\"sonar\"] = df['Body'].apply(speech)\n",
    "loc = 0\n",
    "df['Top']  = df[\"sonar\"].apply(get_val)\n",
    "loc = 1 \n",
    "df['Hate Speech']  = df[\"sonar\"].apply(get_val)\n",
    "loc = 2 \n",
    "df['Offensive Language']  = df[\"sonar\"].apply(get_val)\n",
    "loc = 3 \n",
    "df['Neither']  = df[\"sonar\"].apply(get_val)"
   ]
  },
  {
   "cell_type": "markdown",
   "metadata": {},
   "source": [
    "## Upload results to S3"
   ]
  },
  {
   "cell_type": "code",
   "execution_count": 12,
   "metadata": {
    "ExecuteTime": {
     "end_time": "2021-03-15T20:06:06.678431Z",
     "start_time": "2021-03-15T20:06:06.674916Z"
    }
   },
   "outputs": [],
   "source": [
    "new_files = (\n",
    "    (df, f\"{BASE_PATH}/processed/hatesonar.csv\"),\n",
    ")"
   ]
  },
  {
   "cell_type": "code",
   "execution_count": 13,
   "metadata": {
    "ExecuteTime": {
     "end_time": "2021-03-15T20:06:09.818682Z",
     "start_time": "2021-03-15T20:06:09.814684Z"
    }
   },
   "outputs": [],
   "source": [
    "Path(f\"{BASE_PATH}/processed\").mkdir(parents=True, exist_ok=True)"
   ]
  },
  {
   "cell_type": "code",
   "execution_count": 14,
   "metadata": {
    "ExecuteTime": {
     "end_time": "2021-03-15T20:06:18.960532Z",
     "start_time": "2021-03-15T20:06:10.468980Z"
    }
   },
   "outputs": [],
   "source": [
    "df.to_csv(new_files[0][1], header=False)"
   ]
  },
  {
   "cell_type": "code",
   "execution_count": 15,
   "metadata": {
    "ExecuteTime": {
     "end_time": "2021-03-15T20:06:18.966856Z",
     "start_time": "2021-03-15T20:06:18.963054Z"
    }
   },
   "outputs": [],
   "source": [
    "if os.getenv(\"RUN_IN_AUTOMATION\"):\n",
    "    utils.upload_files(\n",
    "        (f, f\"processed/{Path(f).stem}/hatesonar.csv\") for _, f in new_files\n",
    "    )"
   ]
  },
  {
   "cell_type": "code",
   "execution_count": null,
   "metadata": {},
   "outputs": [],
   "source": []
  }
 ],
 "metadata": {
  "kernelspec": {
   "display_name": "Python 3",
   "language": "python",
   "name": "python3"
  },
  "language_info": {
   "codemirror_mode": {
    "name": "ipython",
    "version": 3
   },
   "file_extension": ".py",
   "mimetype": "text/x-python",
   "name": "python",
   "nbconvert_exporter": "python",
   "pygments_lexer": "ipython3",
   "version": "3.6.8"
  },
  "toc": {
   "base_numbering": 1,
   "nav_menu": {},
   "number_sections": true,
   "sideBar": true,
   "skip_h1_title": false,
   "title_cell": "Table of Contents",
   "title_sidebar": "Contents",
   "toc_cell": false,
   "toc_position": {},
   "toc_section_display": true,
   "toc_window_display": false
  }
 },
 "nbformat": 4,
 "nbformat_minor": 2
}
