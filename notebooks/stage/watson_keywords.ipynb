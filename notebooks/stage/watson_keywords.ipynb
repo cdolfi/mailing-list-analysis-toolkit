{
 "cells": [
  {
   "cell_type": "markdown",
   "metadata": {},
   "source": [
    "# Keyword Analysis on Fedora Mailing List using Watson NLU\n",
    "\n",
    "This notebook demonstrates analyzing the Fedora mailing list using Watson Natural Language Understanding - using default models.\n",
    "\n",
    "This is based on the Watson Discovery Tutorial at https://github.com/spackows/CASCON-2019_NLP-workshops/blob/master/notebooks/Notebook-1_Exploring-NLU.ipynb"
   ]
  },
  {
   "cell_type": "code",
   "execution_count": 60,
   "metadata": {
    "ExecuteTime": {
     "end_time": "2021-02-23T15:59:16.505479Z",
     "start_time": "2021-02-23T15:59:16.500597Z"
    }
   },
   "outputs": [],
   "source": [
    "import pandas as pd\n",
    "import numpy as np\n",
    "import re\n",
    "import os\n",
    "from src import utils\n",
    "import datetime\n",
    "from collections import defaultdict\n",
    "from pathlib import Path\n",
    "\n",
    "from ibm_cloud_sdk_core.authenticators import IAMAuthenticator\n",
    "from ibm_watson import NaturalLanguageUnderstandingV1\n",
    "from ibm_watson.natural_language_understanding_v1 import (\n",
    "    Features,\n",
    "    KeywordsOptions,\n",
    "    SemanticRolesOptions,\n",
    ")"
   ]
  },
  {
   "cell_type": "code",
   "execution_count": 61,
   "metadata": {
    "ExecuteTime": {
     "end_time": "2021-02-23T15:59:18.627359Z",
     "start_time": "2021-02-23T15:59:18.624395Z"
    }
   },
   "outputs": [],
   "source": [
    "BASE_PATH = os.getenv(\"LOCAL_DATA_PATH\", \"../../data\")"
   ]
  },
  {
   "cell_type": "markdown",
   "metadata": {},
   "source": [
    "## Step 1: Look up Natural Language Understanding API key and URL\n",
    "\n",
    "1. From the **Navigation menu** ( <img style=\"margin: 0px; padding: 0px; display: inline;\" src=\"https://github.com/spackows/CASCON-2019_NLP-workshops/raw/master/images/nav-menu-icon.png\"/> ), under the **Services** group, right-click \"Watson Services\" and then open the link in a new browser tab\n",
    "2. In the new Watson services tab, from the **Action** menu beside your Natural Language Understanding instance, select \"Manage in IBM Cloud\"\n",
    "3. In the service details page that opens, copy the apikey and URL"
   ]
  },
  {
   "cell_type": "code",
   "execution_count": 121,
   "metadata": {
    "ExecuteTime": {
     "end_time": "2021-02-23T17:06:08.997059Z",
     "start_time": "2021-02-23T17:06:08.994281Z"
    }
   },
   "outputs": [],
   "source": [
    "apikey = \"\"  # <-- PASTE YOUR APIKEY HERE\n",
    "url = \"\"  # <-- PASTE YOUR SERVICE URL HERE"
   ]
  },
  {
   "cell_type": "markdown",
   "metadata": {},
   "source": [
    "The NLU API can be used to extract:\n",
    "- Sentiment\n",
    "- Emotion\n",
    "- Keywords\n",
    "- Entities\n",
    "- Categories\n",
    "- Concepts\n",
    "- Syntax\n",
    "- Semantics"
   ]
  },
  {
   "cell_type": "code",
   "execution_count": 63,
   "metadata": {
    "ExecuteTime": {
     "end_time": "2021-02-23T16:03:33.984523Z",
     "start_time": "2021-02-23T16:03:33.980697Z"
    }
   },
   "outputs": [],
   "source": [
    "# Instantiate a natural language understanding object\n",
    "authenticator = IAMAuthenticator(apikey)\n",
    "nlu = NaturalLanguageUnderstandingV1(\n",
    "    version=\"2018-11-16\", authenticator=authenticator\n",
    ")\n",
    "nlu.set_service_url(url)"
   ]
  },
  {
   "cell_type": "markdown",
   "metadata": {},
   "source": [
    "## Step 2: Import Fedora Email List"
   ]
  },
  {
   "cell_type": "code",
   "execution_count": 64,
   "metadata": {
    "ExecuteTime": {
     "end_time": "2021-02-23T16:03:42.351545Z",
     "start_time": "2021-02-23T16:03:35.348633Z"
    }
   },
   "outputs": [
    {
     "data": {
      "text/html": [
       "<div>\n",
       "<style scoped>\n",
       "    .dataframe tbody tr th:only-of-type {\n",
       "        vertical-align: middle;\n",
       "    }\n",
       "\n",
       "    .dataframe tbody tr th {\n",
       "        vertical-align: top;\n",
       "    }\n",
       "\n",
       "    .dataframe thead th {\n",
       "        text-align: right;\n",
       "    }\n",
       "</style>\n",
       "<table border=\"1\" class=\"dataframe\">\n",
       "  <thead>\n",
       "    <tr style=\"text-align: right;\">\n",
       "      <th></th>\n",
       "      <th>Message-ID</th>\n",
       "      <th>Date</th>\n",
       "      <th>Body</th>\n",
       "    </tr>\n",
       "  </thead>\n",
       "  <tbody>\n",
       "    <tr>\n",
       "      <th>0</th>\n",
       "      <td>&lt;23f4b2992626d689b84a704a575d974cc794709e.came...</td>\n",
       "      <td>Fri, 31 Jul 2020 18:41:49 -0600</td>\n",
       "      <td>['On Fri, 2020-07-31 at 19:26 +0100, Richard W...</td>\n",
       "    </tr>\n",
       "    <tr>\n",
       "      <th>1</th>\n",
       "      <td>&lt;CAB_b4sBOn9Bisre7D3pUrDmH9+3unoP5VaeRGi031ks3...</td>\n",
       "      <td>Sat, 01 Aug 2020 11:07:52 +0800</td>\n",
       "      <td>['Jerry James &lt;loganjerry(a)gmail.com&gt; =E4=BA=...</td>\n",
       "    </tr>\n",
       "    <tr>\n",
       "      <th>2</th>\n",
       "      <td>&lt;CAJP_izdx=xTviDd4piWMLvxua7Ti8wD81kwqFEB7ucbG...</td>\n",
       "      <td>Sat, 01 Aug 2020 03:25:48 -0400</td>\n",
       "      <td>['libcroco was retired on Rawhide, but the lib...</td>\n",
       "    </tr>\n",
       "    <tr>\n",
       "      <th>3</th>\n",
       "      <td>&lt;rg3f65$16fd$1@ciao.gmane.io&gt;</td>\n",
       "      <td>Sat, 01 Aug 2020 12:12:21 +0200</td>\n",
       "      <td>['Hi,\\n\\nseeing the amount of fallout from LTO...</td>\n",
       "    </tr>\n",
       "    <tr>\n",
       "      <th>4</th>\n",
       "      <td>&lt;rg3fi2$ipa$1@ciao.gmane.io&gt;</td>\n",
       "      <td>Sat, 01 Aug 2020 12:18:41 +0200</td>\n",
       "      <td>['Neal Gompa wrote:\\n&gt; I think it does have va...</td>\n",
       "    </tr>\n",
       "  </tbody>\n",
       "</table>\n",
       "</div>"
      ],
      "text/plain": [
       "                                          Message-ID  \\\n",
       "0  <23f4b2992626d689b84a704a575d974cc794709e.came...   \n",
       "1  <CAB_b4sBOn9Bisre7D3pUrDmH9+3unoP5VaeRGi031ks3...   \n",
       "2  <CAJP_izdx=xTviDd4piWMLvxua7Ti8wD81kwqFEB7ucbG...   \n",
       "3                      <rg3f65$16fd$1@ciao.gmane.io>   \n",
       "4                       <rg3fi2$ipa$1@ciao.gmane.io>   \n",
       "\n",
       "                              Date  \\\n",
       "0  Fri, 31 Jul 2020 18:41:49 -0600   \n",
       "1  Sat, 01 Aug 2020 11:07:52 +0800   \n",
       "2  Sat, 01 Aug 2020 03:25:48 -0400   \n",
       "3  Sat, 01 Aug 2020 12:12:21 +0200   \n",
       "4  Sat, 01 Aug 2020 12:18:41 +0200   \n",
       "\n",
       "                                                Body  \n",
       "0  ['On Fri, 2020-07-31 at 19:26 +0100, Richard W...  \n",
       "1  ['Jerry James <loganjerry(a)gmail.com> =E4=BA=...  \n",
       "2  ['libcroco was retired on Rawhide, but the lib...  \n",
       "3  ['Hi,\\n\\nseeing the amount of fallout from LTO...  \n",
       "4  ['Neal Gompa wrote:\\n> I think it does have va...  "
      ]
     },
     "execution_count": 64,
     "metadata": {},
     "output_type": "execute_result"
    }
   ],
   "source": [
    "df = utils.load_dataset(f\"{BASE_PATH}/interim/text/\")\n",
    "df.head()"
   ]
  },
  {
   "cell_type": "code",
   "execution_count": 65,
   "metadata": {
    "ExecuteTime": {
     "end_time": "2021-02-23T16:03:46.439714Z",
     "start_time": "2021-02-23T16:03:46.436164Z"
    }
   },
   "outputs": [],
   "source": [
    "df = df[150:200]"
   ]
  },
  {
   "cell_type": "markdown",
   "metadata": {},
   "source": [
    "Only taking a small sample of the dataframe due to 2 reasons:\n",
    "* On the Free IBM Watson Account, we are allowed only a limited number of queries\n",
    "* Some emails have code and other unclean text which all cause the following watson_analyze() function to throw an error\n",
    "\n",
    "#TODO: Import data cleaning scripts from auto-faq project to overcome above error"
   ]
  },
  {
   "cell_type": "code",
   "execution_count": 66,
   "metadata": {
    "ExecuteTime": {
     "end_time": "2021-02-23T16:03:48.423303Z",
     "start_time": "2021-02-23T16:03:48.327804Z"
    }
   },
   "outputs": [],
   "source": [
    "# Cleaning function to be separated from this nb as a part of\n",
    "# https://github.com/aicoe-aiops/mailing-list-analysis-toolkit/issues/41\n",
    "def strip_thread(text):\n",
    "    text = text.replace(\"\\r\", \"\")\n",
    "    lines = text.split(\"\\n\")\n",
    "    lines = [line for line in lines if len(line) > 0]\n",
    "    lines = [line for line in lines if line[0] != \">\"]\n",
    "    lines = [line for line in lines if line[:3] != \"Re:\"]\n",
    "    lines = [line for line in lines if line[:7] != \"Subject\"]\n",
    "    lines = [line for line in lines if line[:5] != \"From:\"]\n",
    "    lines = [line for line in lines if line[:5] != \"Date:\"]\n",
    "    lines = [line for line in lines if \"BEGIN PGP SIGNED MESSAGE\" not in line]\n",
    "    lines = [line for line in lines if line[:5] != \"Hash:\"]\n",
    "    lines = [line for line in lines if line[:10] != \"Version: G\"]\n",
    "    lines = [line for line in lines if \"wrote:\" not in line]\n",
    "    lines = [line for line in lines if \"wrote :\" not in line]\n",
    "    lines = [line for line in lines if \"writes:\" not in line]\n",
    "    lines = [line for line in lines if line[:7] != \"Am Mit,\"]\n",
    "    lines = [line for line in lines if line[:7] != \"Am Don,\"]\n",
    "    lines = [line for line in lines if line[:7] != \"Am Mon,\"]\n",
    "    lines = [line for line in lines if line[:7] != \"Quoting\"]\n",
    "    lines = [line for line in lines if line[:10] != \"Em Quinta,\"]\n",
    "    lines = [line for line in lines if \"said:\" not in line]\n",
    "    lines = [\n",
    "        line\n",
    "        for line in lines\n",
    "        if re.match(\n",
    "            \".*n (Sun|Mon|Tue|Wed|Thu|Fri|Sat), .. (Jan|Feb|Mar|Apr|May|Jun|Jul|Aug|Sep|Sept|Oct|Nov|Dec) 20..*\",\n",
    "            line,\n",
    "        )\n",
    "        is None\n",
    "    ]\n",
    "    lines = [\n",
    "        line\n",
    "        for line in lines\n",
    "        if re.match(\n",
    "            (\n",
    "                \".*n (Sunday|Monday|Tuesday|Wednesday|Thursday|Friday|Saturday) ..\"\n",
    "                \" (January|February|March|April|May|June|July|August|September|October|November|December) 20..*\"\n",
    "            ),\n",
    "            line,\n",
    "        )\n",
    "        is None\n",
    "    ]\n",
    "    lines = [\n",
    "        line\n",
    "        for line in lines\n",
    "        if re.match(\n",
    "            \".*n (Sun|Mon|Tue|Wed|Thu|Fri|Sat), (Jan|Feb|Mar|Apr|May|Jun|Jul|Aug|Sep|Sept|Oct|Nov|Dec) .., 20..*\",\n",
    "            line,\n",
    "        )\n",
    "        is None\n",
    "    ]\n",
    "    lines = [\n",
    "        line\n",
    "        for line in lines\n",
    "        if re.match(\n",
    "            r\".*n (Sun|Mon|Tue|Wed|Thu|Fri|Sat), 20[\\d]{2}-[\\d]{2}-[\\d]{2} at.*\",\n",
    "            line,\n",
    "        )\n",
    "        is None\n",
    "    ]\n",
    "    lines = [line for line in lines if line[-6:] != \"said: \"]\n",
    "    lines = [line for line in lines if line[-8:] != \"babbled:\"]\n",
    "    lines = [line for line in lines if line[-7:] != \"wrot=e:\"]\n",
    "    lines = [line for line in lines if line[-8:] != \"A9crit :\"]\n",
    "    lines = [line for line in lines if line[0] != \"|\"]\n",
    "    return \"\\n\".join(lines)\n",
    "\n",
    "\n",
    "# format for CSV, clean special characters, and remove extranous emails\n",
    "def pandas_clean(emails):\n",
    "    emails[\"Body\"].replace(\n",
    "        to_replace=[\n",
    "            r\"\\n\",\n",
    "            \"\\n\",\n",
    "        ],\n",
    "        value=\" \",\n",
    "        regex=True,\n",
    "        inplace=True,\n",
    "    )\n",
    "    emails[\"Body\"].replace(\n",
    "        to_replace=[r\"\\'\", \"'\", \">\", \"<\", \"= \", \"-\", r\"http\\S+\"],\n",
    "        value=\"\",\n",
    "        regex=True,\n",
    "        inplace=True,\n",
    "    )\n",
    "    emails[\"Body\"].replace(\n",
    "        to_replace=[r\"\\\\\\s+\", r\"\\\\s+\", \"=\"], value=\"\", regex=True, inplace=True\n",
    "    )\n",
    "    emails[\"Body\"].replace(\n",
    "        to_replace=[\"   \", \"  \"], value=\" \", regex=True, inplace=True\n",
    "    )\n",
    "    emails[\"Body\"].replace(\n",
    "        to_replace=[\"_\", \"3D\"], value=\"\", regex=True, inplace=True\n",
    "    )\n",
    "    emails[\"Body\"].replace(\n",
    "        to_replace=[\"   \", \"  \"], value=\" \", regex=True, inplace=True\n",
    "    )\n",
    "    emails[\"Body\"].replace(\n",
    "        to_replace=[\"   \", \"  \"], value=\" \", regex=True, inplace=True\n",
    "    )\n",
    "    emails[\"Body\"] = emails[\"Body\"].apply(\n",
    "        lambda x: x.strip().replace(r\"\\n\", \"\")\n",
    "    )\n",
    "\n",
    "    emails.drop(emails.index[emails[\"Body\"] == \"\"], inplace=True)\n",
    "    emails.drop(emails.index[emails[\"Body\"] == \" \"], inplace=True)\n",
    "    emails.dropna(subset=[\"Body\"], inplace=True)\n",
    "\n",
    "    emails = emails.reset_index()\n",
    "    emails.drop(\"index\", axis=1, inplace=True)\n",
    "    return emails"
   ]
  },
  {
   "cell_type": "code",
   "execution_count": 67,
   "metadata": {
    "ExecuteTime": {
     "end_time": "2021-02-23T16:03:49.260551Z",
     "start_time": "2021-02-23T16:03:49.231779Z"
    }
   },
   "outputs": [
    {
     "data": {
      "text/html": [
       "<div>\n",
       "<style scoped>\n",
       "    .dataframe tbody tr th:only-of-type {\n",
       "        vertical-align: middle;\n",
       "    }\n",
       "\n",
       "    .dataframe tbody tr th {\n",
       "        vertical-align: top;\n",
       "    }\n",
       "\n",
       "    .dataframe thead th {\n",
       "        text-align: right;\n",
       "    }\n",
       "</style>\n",
       "<table border=\"1\" class=\"dataframe\">\n",
       "  <thead>\n",
       "    <tr style=\"text-align: right;\">\n",
       "      <th></th>\n",
       "      <th>Message-ID</th>\n",
       "      <th>Date</th>\n",
       "      <th>Body</th>\n",
       "    </tr>\n",
       "  </thead>\n",
       "  <tbody>\n",
       "    <tr>\n",
       "      <th>0</th>\n",
       "      <td>&lt;20200803214201.GG15536@redhat.com&gt;</td>\n",
       "      <td>Mon, 03 Aug 2020 22:42:01 +0100</td>\n",
       "      <td>[\"I cant reproduce this locally but it happens...</td>\n",
       "    </tr>\n",
       "    <tr>\n",
       "      <th>1</th>\n",
       "      <td>&lt;20200803215342.GH15536@redhat.com&gt;</td>\n",
       "      <td>Mon, 03 Aug 2020 22:53:42 +0100</td>\n",
       "      <td>[\" to the latest build, but thats the ELN buil...</td>\n",
       "    </tr>\n",
       "    <tr>\n",
       "      <th>2</th>\n",
       "      <td>&lt;20200804002941.i26sbstikzielo6t@mandor.scrye....</td>\n",
       "      <td>Mon, 03 Aug 2020 17:29:41 -0700</td>\n",
       "      <td>[\"ok. I did what I could with the resources we...</td>\n",
       "    </tr>\n",
       "    <tr>\n",
       "      <th>3</th>\n",
       "      <td>&lt;CAHzpm2hyYOALhb4Or1We1EbDi+SHk_ADpo8+fMXooruL...</td>\n",
       "      <td>Tue, 04 Aug 2020 12:02:50 +1000</td>\n",
       "      <td>[\"Hi,The upstream author of wayvnc (a VNC serv...</td>\n",
       "    </tr>\n",
       "    <tr>\n",
       "      <th>4</th>\n",
       "      <td>&lt;CAN3TeO3B-_TUiYmnHgibWOB_p_Qvyo_+d+oTRkmON1nG...</td>\n",
       "      <td>Mon, 03 Aug 2020 22:14:24 -0500</td>\n",
       "      <td>[\"Sometimes you need to get into the build dir...</td>\n",
       "    </tr>\n",
       "    <tr>\n",
       "      <th>5</th>\n",
       "      <td>&lt;20200804061443.GA30379@nautica&gt;</td>\n",
       "      <td>Tue, 04 Aug 2020 08:14:43 +0200</td>\n",
       "      <td>[Hi,this is more of a head up than a bug per s...</td>\n",
       "    </tr>\n",
       "    <tr>\n",
       "      <th>6</th>\n",
       "      <td>&lt;CAO9z1z_Yo84sDLSONGnGA7da_cemp98YBujLxWRffyvQ...</td>\n",
       "      <td>Tue, 04 Aug 2020 00:49:38 -0600</td>\n",
       "      <td>[At today blocker review meeting[0], we ran ac...</td>\n",
       "    </tr>\n",
       "    <tr>\n",
       "      <th>7</th>\n",
       "      <td>&lt;20200804074640.GI15536@redhat.com&gt;</td>\n",
       "      <td>Tue, 04 Aug 2020 08:46:40 +0100</td>\n",
       "      <td>[\"I disabled debuginfo generation in ocamlppxt...</td>\n",
       "    </tr>\n",
       "    <tr>\n",
       "      <th>8</th>\n",
       "      <td>&lt;20200804075445.20516.19410@mailman01.iad2.fed...</td>\n",
       "      <td>Tue, 04 Aug 2020 07:54:45 +0000</td>\n",
       "      <td>[\"Kevin, thanks for caring about TrojitC3A1. J...</td>\n",
       "    </tr>\n",
       "    <tr>\n",
       "      <th>9</th>\n",
       "      <td>&lt;CAB_b4sBDsGQG-eA=dV=pa8fV+o6Ee3_vsB4qygncTgF2...</td>\n",
       "      <td>Tue, 04 Aug 2020 16:39:02 +0800</td>\n",
       "      <td>[Qiyu Yan yanqiyu(a)fedoraproject.org E4BA8E20...</td>\n",
       "    </tr>\n",
       "    <tr>\n",
       "      <th>10</th>\n",
       "      <td>&lt;4dae1f5e-ad2d-b8fc-dabe-08e434d6278a@redhat.com&gt;</td>\n",
       "      <td>Tue, 04 Aug 2020 10:45:52 +0200</td>\n",
       "      <td>[Yesterday, I have updated my Rawhide and wond...</td>\n",
       "    </tr>\n",
       "    <tr>\n",
       "      <th>11</th>\n",
       "      <td>&lt;20200804085545.GJ15536@redhat.com&gt;</td>\n",
       "      <td>Tue, 04 Aug 2020 09:55:45 +0100</td>\n",
       "      <td>[\"In still seeing errors like: /usr/lib/rpm/de...</td>\n",
       "    </tr>\n",
       "    <tr>\n",
       "      <th>12</th>\n",
       "      <td>&lt;87mu3a3f1e.fsf@oldenburg2.str.redhat.com&gt;</td>\n",
       "      <td>Tue, 04 Aug 2020 12:02:05 +0200</td>\n",
       "      <td>[\"* Daniel P. BerrangC3A9: Taken from what wou...</td>\n",
       "    </tr>\n",
       "    <tr>\n",
       "      <th>13</th>\n",
       "      <td>&lt;20200804103143.CC9561580A3A@openqa01.iad2.fed...</td>\n",
       "      <td>Tue, 04 Aug 2020 10:31:43 +0000</td>\n",
       "      <td>[Announcing the creation of a new nightly rele...</td>\n",
       "    </tr>\n",
       "    <tr>\n",
       "      <th>14</th>\n",
       "      <td>&lt;59ceb4d9-58b8-aa50-12df-67057ce0f331@fedorapr...</td>\n",
       "      <td>Tue, 04 Aug 2020 12:37:38 +0200</td>\n",
       "      <td>[Hi all,I have a number of packages that are F...</td>\n",
       "    </tr>\n",
       "  </tbody>\n",
       "</table>\n",
       "</div>"
      ],
      "text/plain": [
       "                                           Message-ID  \\\n",
       "0                 <20200803214201.GG15536@redhat.com>   \n",
       "1                 <20200803215342.GH15536@redhat.com>   \n",
       "2   <20200804002941.i26sbstikzielo6t@mandor.scrye....   \n",
       "3   <CAHzpm2hyYOALhb4Or1We1EbDi+SHk_ADpo8+fMXooruL...   \n",
       "4   <CAN3TeO3B-_TUiYmnHgibWOB_p_Qvyo_+d+oTRkmON1nG...   \n",
       "5                    <20200804061443.GA30379@nautica>   \n",
       "6   <CAO9z1z_Yo84sDLSONGnGA7da_cemp98YBujLxWRffyvQ...   \n",
       "7                 <20200804074640.GI15536@redhat.com>   \n",
       "8   <20200804075445.20516.19410@mailman01.iad2.fed...   \n",
       "9   <CAB_b4sBDsGQG-eA=dV=pa8fV+o6Ee3_vsB4qygncTgF2...   \n",
       "10  <4dae1f5e-ad2d-b8fc-dabe-08e434d6278a@redhat.com>   \n",
       "11                <20200804085545.GJ15536@redhat.com>   \n",
       "12         <87mu3a3f1e.fsf@oldenburg2.str.redhat.com>   \n",
       "13  <20200804103143.CC9561580A3A@openqa01.iad2.fed...   \n",
       "14  <59ceb4d9-58b8-aa50-12df-67057ce0f331@fedorapr...   \n",
       "\n",
       "                               Date  \\\n",
       "0   Mon, 03 Aug 2020 22:42:01 +0100   \n",
       "1   Mon, 03 Aug 2020 22:53:42 +0100   \n",
       "2   Mon, 03 Aug 2020 17:29:41 -0700   \n",
       "3   Tue, 04 Aug 2020 12:02:50 +1000   \n",
       "4   Mon, 03 Aug 2020 22:14:24 -0500   \n",
       "5   Tue, 04 Aug 2020 08:14:43 +0200   \n",
       "6   Tue, 04 Aug 2020 00:49:38 -0600   \n",
       "7   Tue, 04 Aug 2020 08:46:40 +0100   \n",
       "8   Tue, 04 Aug 2020 07:54:45 +0000   \n",
       "9   Tue, 04 Aug 2020 16:39:02 +0800   \n",
       "10  Tue, 04 Aug 2020 10:45:52 +0200   \n",
       "11  Tue, 04 Aug 2020 09:55:45 +0100   \n",
       "12  Tue, 04 Aug 2020 12:02:05 +0200   \n",
       "13  Tue, 04 Aug 2020 10:31:43 +0000   \n",
       "14  Tue, 04 Aug 2020 12:37:38 +0200   \n",
       "\n",
       "                                                 Body  \n",
       "0   [\"I cant reproduce this locally but it happens...  \n",
       "1   [\" to the latest build, but thats the ELN buil...  \n",
       "2   [\"ok. I did what I could with the resources we...  \n",
       "3   [\"Hi,The upstream author of wayvnc (a VNC serv...  \n",
       "4   [\"Sometimes you need to get into the build dir...  \n",
       "5   [Hi,this is more of a head up than a bug per s...  \n",
       "6   [At today blocker review meeting[0], we ran ac...  \n",
       "7   [\"I disabled debuginfo generation in ocamlppxt...  \n",
       "8   [\"Kevin, thanks for caring about TrojitC3A1. J...  \n",
       "9   [Qiyu Yan yanqiyu(a)fedoraproject.org E4BA8E20...  \n",
       "10  [Yesterday, I have updated my Rawhide and wond...  \n",
       "11  [\"In still seeing errors like: /usr/lib/rpm/de...  \n",
       "12  [\"* Daniel P. BerrangC3A9: Taken from what wou...  \n",
       "13  [Announcing the creation of a new nightly rele...  \n",
       "14  [Hi all,I have a number of packages that are F...  "
      ]
     },
     "execution_count": 67,
     "metadata": {},
     "output_type": "execute_result"
    }
   ],
   "source": [
    "clean = df.copy()\n",
    "clean[\"Body\"] = df[\"Body\"].apply(strip_thread)\n",
    "clean = pandas_clean(clean)\n",
    "clean"
   ]
  },
  {
   "cell_type": "code",
   "execution_count": 68,
   "metadata": {
    "ExecuteTime": {
     "end_time": "2021-02-23T16:03:49.850294Z",
     "start_time": "2021-02-23T16:03:49.827320Z"
    }
   },
   "outputs": [
    {
     "data": {
      "text/html": [
       "<div>\n",
       "<style scoped>\n",
       "    .dataframe tbody tr th:only-of-type {\n",
       "        vertical-align: middle;\n",
       "    }\n",
       "\n",
       "    .dataframe tbody tr th {\n",
       "        vertical-align: top;\n",
       "    }\n",
       "\n",
       "    .dataframe thead th {\n",
       "        text-align: right;\n",
       "    }\n",
       "</style>\n",
       "<table border=\"1\" class=\"dataframe\">\n",
       "  <thead>\n",
       "    <tr style=\"text-align: right;\">\n",
       "      <th></th>\n",
       "      <th>Message-ID</th>\n",
       "      <th>Date</th>\n",
       "      <th>Body</th>\n",
       "      <th>Chunk</th>\n",
       "    </tr>\n",
       "  </thead>\n",
       "  <tbody>\n",
       "    <tr>\n",
       "      <th>0</th>\n",
       "      <td>&lt;20200803214201.GG15536@redhat.com&gt;</td>\n",
       "      <td>2020-08-03 22:42:01+01:00</td>\n",
       "      <td>[\"I cant reproduce this locally but it happens...</td>\n",
       "      <td>2020-08-01</td>\n",
       "    </tr>\n",
       "    <tr>\n",
       "      <th>1</th>\n",
       "      <td>&lt;20200803215342.GH15536@redhat.com&gt;</td>\n",
       "      <td>2020-08-03 22:53:42+01:00</td>\n",
       "      <td>[\" to the latest build, but thats the ELN buil...</td>\n",
       "      <td>2020-08-01</td>\n",
       "    </tr>\n",
       "    <tr>\n",
       "      <th>2</th>\n",
       "      <td>&lt;20200804002941.i26sbstikzielo6t@mandor.scrye....</td>\n",
       "      <td>2020-08-03 17:29:41-07:00</td>\n",
       "      <td>[\"ok. I did what I could with the resources we...</td>\n",
       "      <td>2020-08-01</td>\n",
       "    </tr>\n",
       "    <tr>\n",
       "      <th>3</th>\n",
       "      <td>&lt;CAHzpm2hyYOALhb4Or1We1EbDi+SHk_ADpo8+fMXooruL...</td>\n",
       "      <td>2020-08-04 12:02:50+10:00</td>\n",
       "      <td>[\"Hi,The upstream author of wayvnc (a VNC serv...</td>\n",
       "      <td>2020-08-01</td>\n",
       "    </tr>\n",
       "    <tr>\n",
       "      <th>4</th>\n",
       "      <td>&lt;CAN3TeO3B-_TUiYmnHgibWOB_p_Qvyo_+d+oTRkmON1nG...</td>\n",
       "      <td>2020-08-03 22:14:24-05:00</td>\n",
       "      <td>[\"Sometimes you need to get into the build dir...</td>\n",
       "      <td>2020-08-01</td>\n",
       "    </tr>\n",
       "  </tbody>\n",
       "</table>\n",
       "</div>"
      ],
      "text/plain": [
       "                                          Message-ID  \\\n",
       "0                <20200803214201.GG15536@redhat.com>   \n",
       "1                <20200803215342.GH15536@redhat.com>   \n",
       "2  <20200804002941.i26sbstikzielo6t@mandor.scrye....   \n",
       "3  <CAHzpm2hyYOALhb4Or1We1EbDi+SHk_ADpo8+fMXooruL...   \n",
       "4  <CAN3TeO3B-_TUiYmnHgibWOB_p_Qvyo_+d+oTRkmON1nG...   \n",
       "\n",
       "                        Date  \\\n",
       "0  2020-08-03 22:42:01+01:00   \n",
       "1  2020-08-03 22:53:42+01:00   \n",
       "2  2020-08-03 17:29:41-07:00   \n",
       "3  2020-08-04 12:02:50+10:00   \n",
       "4  2020-08-03 22:14:24-05:00   \n",
       "\n",
       "                                                Body       Chunk  \n",
       "0  [\"I cant reproduce this locally but it happens...  2020-08-01  \n",
       "1  [\" to the latest build, but thats the ELN buil...  2020-08-01  \n",
       "2  [\"ok. I did what I could with the resources we...  2020-08-01  \n",
       "3  [\"Hi,The upstream author of wayvnc (a VNC serv...  2020-08-01  \n",
       "4  [\"Sometimes you need to get into the build dir...  2020-08-01  "
      ]
     },
     "execution_count": 68,
     "metadata": {},
     "output_type": "execute_result"
    }
   ],
   "source": [
    "clean[\"Date\"] = clean[\"Date\"].apply(lambda x: pd.to_datetime(x))\n",
    "clean[\"Chunk\"] = clean[\"Date\"].apply(\n",
    "    lambda x: datetime.date(x.year, x.month, 1)\n",
    ")\n",
    "clean = clean.sort_values(by=\"Date\")\n",
    "clean.reset_index(inplace=True, drop=True)\n",
    "clean.head()"
   ]
  },
  {
   "cell_type": "markdown",
   "metadata": {},
   "source": [
    "## Step 3: Analyze sample customer messages\n",
    "\n",
    "For our analysis, we'll focus on extracting:\n",
    "- Keywords \n",
    "- Actions and Objects (from semantic roles)"
   ]
  },
  {
   "cell_type": "code",
   "execution_count": 69,
   "metadata": {
    "ExecuteTime": {
     "end_time": "2021-02-23T16:03:51.010284Z",
     "start_time": "2021-02-23T16:03:51.004929Z"
    }
   },
   "outputs": [],
   "source": [
    "def watson_analyze(message):\n",
    "\n",
    "    \"\"\"\n",
    "    Extract keywords and sematic roles from text\n",
    "    Input : message\n",
    "    Output : Array of action verbs, Array of Keywords\n",
    "    \"\"\"\n",
    "    result = nlu.analyze(\n",
    "        text=message,\n",
    "        features=Features(\n",
    "            keywords=KeywordsOptions(), semantic_roles=SemanticRolesOptions()\n",
    "        ),\n",
    "    ).get_result()\n",
    "    actions_arr = []\n",
    "    keywords_arr = []\n",
    "    for keyword in result[\"keywords\"]:\n",
    "        keywords_arr.append(keyword[\"text\"])\n",
    "    if \"semantic_roles\" in result:\n",
    "        for semantic_result in result[\"semantic_roles\"]:\n",
    "            if \"action\" in semantic_result:\n",
    "                actions_arr.append(semantic_result[\"action\"][\"normalized\"])\n",
    "\n",
    "    return pd.Series([actions_arr, keywords_arr])"
   ]
  },
  {
   "cell_type": "code",
   "execution_count": 70,
   "metadata": {
    "ExecuteTime": {
     "end_time": "2021-02-23T16:03:51.626550Z",
     "start_time": "2021-02-23T16:03:51.621787Z"
    }
   },
   "outputs": [],
   "source": [
    "clean[\"Actions\"] = np.nan\n",
    "clean[\"Keywords\"] = np.nan"
   ]
  },
  {
   "cell_type": "code",
   "execution_count": 71,
   "metadata": {
    "ExecuteTime": {
     "end_time": "2021-02-23T16:04:08.950916Z",
     "start_time": "2021-02-23T16:03:52.188510Z"
    }
   },
   "outputs": [],
   "source": [
    "clean[[\"Actions\", \"Keywords\"]] = clean[\"Body\"].apply(\n",
    "    lambda x: watson_analyze(x)\n",
    ")"
   ]
  },
  {
   "cell_type": "code",
   "execution_count": 72,
   "metadata": {
    "ExecuteTime": {
     "end_time": "2021-02-23T16:04:08.970490Z",
     "start_time": "2021-02-23T16:04:08.952975Z"
    }
   },
   "outputs": [
    {
     "data": {
      "text/html": [
       "<div>\n",
       "<style scoped>\n",
       "    .dataframe tbody tr th:only-of-type {\n",
       "        vertical-align: middle;\n",
       "    }\n",
       "\n",
       "    .dataframe tbody tr th {\n",
       "        vertical-align: top;\n",
       "    }\n",
       "\n",
       "    .dataframe thead th {\n",
       "        text-align: right;\n",
       "    }\n",
       "</style>\n",
       "<table border=\"1\" class=\"dataframe\">\n",
       "  <thead>\n",
       "    <tr style=\"text-align: right;\">\n",
       "      <th></th>\n",
       "      <th>Message-ID</th>\n",
       "      <th>Date</th>\n",
       "      <th>Body</th>\n",
       "      <th>Chunk</th>\n",
       "      <th>Actions</th>\n",
       "      <th>Keywords</th>\n",
       "    </tr>\n",
       "  </thead>\n",
       "  <tbody>\n",
       "    <tr>\n",
       "      <th>0</th>\n",
       "      <td>&lt;20200803214201.GG15536@redhat.com&gt;</td>\n",
       "      <td>2020-08-03 22:42:01+01:00</td>\n",
       "      <td>[\"I cant reproduce this locally but it happens...</td>\n",
       "      <td>2020-08-01</td>\n",
       "      <td>[cant reproduce, be]</td>\n",
       "      <td>[Richard Jones, Tiny program, Red Hat, Virtual...</td>\n",
       "    </tr>\n",
       "    <tr>\n",
       "      <th>1</th>\n",
       "      <td>&lt;20200803215342.GH15536@redhat.com&gt;</td>\n",
       "      <td>2020-08-03 22:53:42+01:00</td>\n",
       "      <td>[\" to the latest build, but thats the ELN buil...</td>\n",
       "      <td>2020-08-01</td>\n",
       "      <td>[thats, build, fail.I]</td>\n",
       "      <td>[latest build, ELN build, Richard Jones, lates...</td>\n",
       "    </tr>\n",
       "    <tr>\n",
       "      <th>2</th>\n",
       "      <td>&lt;20200804002941.i26sbstikzielo6t@mandor.scrye....</td>\n",
       "      <td>2020-08-03 17:29:41-07:00</td>\n",
       "      <td>[\"ok. I did what I could with the resources we...</td>\n",
       "      <td>2020-08-01</td>\n",
       "      <td>[do, have, notice, use, lower, move, have noti...</td>\n",
       "      <td>[varnish package cache, kvm instances, vm gues...</td>\n",
       "    </tr>\n",
       "    <tr>\n",
       "      <th>3</th>\n",
       "      <td>&lt;CAHzpm2hyYOALhb4Or1We1EbDi+SHk_ADpo8+fMXooruL...</td>\n",
       "      <td>2020-08-04 12:02:50+10:00</td>\n",
       "      <td>[\"Hi,The upstream author of wayvnc (a VNC serv...</td>\n",
       "      <td>2020-08-01</td>\n",
       "      <td>[]</td>\n",
       "      <td>[upstream author of wayvnc, new release wayvnc...</td>\n",
       "    </tr>\n",
       "    <tr>\n",
       "      <th>4</th>\n",
       "      <td>&lt;CAN3TeO3B-_TUiYmnHgibWOB_p_Qvyo_+d+oTRkmON1nG...</td>\n",
       "      <td>2020-08-03 22:14:24-05:00</td>\n",
       "      <td>[\"Sometimes you need to get into the build dir...</td>\n",
       "      <td>2020-08-01</td>\n",
       "      <td>[need, use, have to rely, to find, have]</td>\n",
       "      <td>[...%{vpathbuilddir, build directory, case for...</td>\n",
       "    </tr>\n",
       "  </tbody>\n",
       "</table>\n",
       "</div>"
      ],
      "text/plain": [
       "                                          Message-ID  \\\n",
       "0                <20200803214201.GG15536@redhat.com>   \n",
       "1                <20200803215342.GH15536@redhat.com>   \n",
       "2  <20200804002941.i26sbstikzielo6t@mandor.scrye....   \n",
       "3  <CAHzpm2hyYOALhb4Or1We1EbDi+SHk_ADpo8+fMXooruL...   \n",
       "4  <CAN3TeO3B-_TUiYmnHgibWOB_p_Qvyo_+d+oTRkmON1nG...   \n",
       "\n",
       "                        Date  \\\n",
       "0  2020-08-03 22:42:01+01:00   \n",
       "1  2020-08-03 22:53:42+01:00   \n",
       "2  2020-08-03 17:29:41-07:00   \n",
       "3  2020-08-04 12:02:50+10:00   \n",
       "4  2020-08-03 22:14:24-05:00   \n",
       "\n",
       "                                                Body       Chunk  \\\n",
       "0  [\"I cant reproduce this locally but it happens...  2020-08-01   \n",
       "1  [\" to the latest build, but thats the ELN buil...  2020-08-01   \n",
       "2  [\"ok. I did what I could with the resources we...  2020-08-01   \n",
       "3  [\"Hi,The upstream author of wayvnc (a VNC serv...  2020-08-01   \n",
       "4  [\"Sometimes you need to get into the build dir...  2020-08-01   \n",
       "\n",
       "                                             Actions  \\\n",
       "0                               [cant reproduce, be]   \n",
       "1                             [thats, build, fail.I]   \n",
       "2  [do, have, notice, use, lower, move, have noti...   \n",
       "3                                                 []   \n",
       "4           [need, use, have to rely, to find, have]   \n",
       "\n",
       "                                            Keywords  \n",
       "0  [Richard Jones, Tiny program, Red Hat, Virtual...  \n",
       "1  [latest build, ELN build, Richard Jones, lates...  \n",
       "2  [varnish package cache, kvm instances, vm gues...  \n",
       "3  [upstream author of wayvnc, new release wayvnc...  \n",
       "4  [...%{vpathbuilddir, build directory, case for...  "
      ]
     },
     "execution_count": 72,
     "metadata": {},
     "output_type": "execute_result"
    }
   ],
   "source": [
    "clean.head()"
   ]
  },
  {
   "cell_type": "markdown",
   "metadata": {},
   "source": [
    "## Step 4: Aggregate Keywords by Month\n"
   ]
  },
  {
   "cell_type": "markdown",
   "metadata": {},
   "source": [
    "Here we aggregate the keywords extracted using watson NLU for each email by month and create a long dataframe with the columns `month`, `word`, and `count` which can be used for making plots.\n",
    "\n",
    "Note : To observe monthly trends, we need to be able to run the analysis on a larger sample of the data which will let us get more months and keywords to analyze.\n",
    "\n",
    "For that, we need a Paid account to be able to run a larger query as well as for us to succesfully run the analysis without an error, we have to be able to clean the dataset to remove the code fragments"
   ]
  },
  {
   "cell_type": "code",
   "execution_count": 110,
   "metadata": {
    "ExecuteTime": {
     "end_time": "2021-02-23T17:04:02.239579Z",
     "start_time": "2021-02-23T17:04:02.225923Z"
    }
   },
   "outputs": [],
   "source": [
    "months = set()\n",
    "monthly_dict_list = []\n",
    "month_keywords = defaultdict(int)\n",
    "\n",
    "for index, row in clean.iterrows():\n",
    "\n",
    "    for word in row[\"Keywords\"]:\n",
    "        month_keywords[word] += 1\n",
    "        month_keywords[(str(row[\"Chunk\"]), str(word))] = month_keywords.pop(\n",
    "            word\n",
    "        )\n",
    "\n",
    "    if row[\"Chunk\"] not in months:\n",
    "\n",
    "        months.add(row[\"Chunk\"])\n",
    "\n",
    "        month_keywords = dict(\n",
    "            sorted(month_keywords.items(), key=lambda item: item[1])\n",
    "        )\n",
    "\n",
    "        monthly_dict_list.append(month_keywords)\n",
    "        month_keywords = defaultdict(int)"
   ]
  },
  {
   "cell_type": "code",
   "execution_count": 111,
   "metadata": {
    "ExecuteTime": {
     "end_time": "2021-02-23T17:04:02.998209Z",
     "start_time": "2021-02-23T17:04:02.991718Z"
    }
   },
   "outputs": [
    {
     "data": {
      "text/plain": [
       "[{('2020-08-01', 'Richard Jones'): 1,\n",
       "  ('2020-08-01', 'Tiny program'): 1,\n",
       "  ('2020-08-01', 'Red Hat'): 1,\n",
       "  ('2020-08-01', 'Virtualization Group'): 1,\n",
       "  ('2020-08-01', 'Bad exit status'): 1,\n",
       "  ('2020-08-01', 'Permission deniederror'): 1,\n",
       "  ('2020-08-01', 'bin'): 1,\n",
       "  ('2020-08-01', 'manypowerful monitoring features'): 1,\n",
       "  ('2020-08-01', 'strip'): 1,\n",
       "  ('2020-08-01', 'virtual machines'): 1,\n",
       "  ('2020-08-01', 'file'): 1,\n",
       "  ('2020-08-01', 'Koji'): 1,\n",
       "  ('2020-08-01', 'lib'): 1,\n",
       "  ('2020-08-01', 'rpm'): 1,\n",
       "  ('2020-08-01', 'virtualization blog'): 1,\n",
       "  ('2020-08-01', 'reason'): 1,\n",
       "  ('2020-08-01', 'usr'): 1,\n",
       "  ('2020-08-01', 'programming'): 1,\n",
       "  ('2020-08-01', 'var'): 1,\n",
       "  ('2020-08-01', 'net stats'): 1,\n",
       "  ('2020-08-01', 'ideas'): 1,\n",
       "  ('2020-08-01', '5A3ApT'): 1,\n",
       "  ('2020-08-01', 'disk stats'): 1,\n",
       "  ('2020-08-01', 'builddir'): 1,\n",
       "  ('2020-08-01', 'build'): 1,\n",
       "  ('2020-08-01', 'BUILDROOT'): 1,\n",
       "  ('2020-08-01', 'brpstrip'): 1,\n",
       "  ('2020-08-01', 'fc33'): 1,\n",
       "  ('2020-08-01', 'omake'): 1,\n",
       "  ('2020-08-01', 'tmp'): 1}]"
      ]
     },
     "execution_count": 111,
     "metadata": {},
     "output_type": "execute_result"
    }
   ],
   "source": [
    "monthly_dict_list"
   ]
  },
  {
   "cell_type": "code",
   "execution_count": 112,
   "metadata": {
    "ExecuteTime": {
     "end_time": "2021-02-23T17:04:04.095617Z",
     "start_time": "2021-02-23T17:04:04.090263Z"
    }
   },
   "outputs": [],
   "source": [
    "monthly_words_df = pd.DataFrame(\n",
    "    [\n",
    "        {\"month\": key[0], \"word\": key[1], \"count\": value}\n",
    "        for i in range(len(monthly_dict_list))\n",
    "        for (key), value in monthly_dict_list[i].items()\n",
    "    ]\n",
    ")"
   ]
  },
  {
   "cell_type": "code",
   "execution_count": 114,
   "metadata": {
    "ExecuteTime": {
     "end_time": "2021-02-23T17:04:07.593415Z",
     "start_time": "2021-02-23T17:04:07.583791Z"
    }
   },
   "outputs": [
    {
     "data": {
      "text/html": [
       "<div>\n",
       "<style scoped>\n",
       "    .dataframe tbody tr th:only-of-type {\n",
       "        vertical-align: middle;\n",
       "    }\n",
       "\n",
       "    .dataframe tbody tr th {\n",
       "        vertical-align: top;\n",
       "    }\n",
       "\n",
       "    .dataframe thead th {\n",
       "        text-align: right;\n",
       "    }\n",
       "</style>\n",
       "<table border=\"1\" class=\"dataframe\">\n",
       "  <thead>\n",
       "    <tr style=\"text-align: right;\">\n",
       "      <th></th>\n",
       "      <th>month</th>\n",
       "      <th>word</th>\n",
       "      <th>count</th>\n",
       "    </tr>\n",
       "  </thead>\n",
       "  <tbody>\n",
       "    <tr>\n",
       "      <th>0</th>\n",
       "      <td>2020-08-01</td>\n",
       "      <td>Richard Jones</td>\n",
       "      <td>1</td>\n",
       "    </tr>\n",
       "    <tr>\n",
       "      <th>1</th>\n",
       "      <td>2020-08-01</td>\n",
       "      <td>Tiny program</td>\n",
       "      <td>1</td>\n",
       "    </tr>\n",
       "    <tr>\n",
       "      <th>2</th>\n",
       "      <td>2020-08-01</td>\n",
       "      <td>Red Hat</td>\n",
       "      <td>1</td>\n",
       "    </tr>\n",
       "    <tr>\n",
       "      <th>3</th>\n",
       "      <td>2020-08-01</td>\n",
       "      <td>Virtualization Group</td>\n",
       "      <td>1</td>\n",
       "    </tr>\n",
       "    <tr>\n",
       "      <th>4</th>\n",
       "      <td>2020-08-01</td>\n",
       "      <td>Bad exit status</td>\n",
       "      <td>1</td>\n",
       "    </tr>\n",
       "    <tr>\n",
       "      <th>5</th>\n",
       "      <td>2020-08-01</td>\n",
       "      <td>Permission deniederror</td>\n",
       "      <td>1</td>\n",
       "    </tr>\n",
       "    <tr>\n",
       "      <th>6</th>\n",
       "      <td>2020-08-01</td>\n",
       "      <td>bin</td>\n",
       "      <td>1</td>\n",
       "    </tr>\n",
       "    <tr>\n",
       "      <th>7</th>\n",
       "      <td>2020-08-01</td>\n",
       "      <td>manypowerful monitoring features</td>\n",
       "      <td>1</td>\n",
       "    </tr>\n",
       "    <tr>\n",
       "      <th>8</th>\n",
       "      <td>2020-08-01</td>\n",
       "      <td>strip</td>\n",
       "      <td>1</td>\n",
       "    </tr>\n",
       "    <tr>\n",
       "      <th>9</th>\n",
       "      <td>2020-08-01</td>\n",
       "      <td>virtual machines</td>\n",
       "      <td>1</td>\n",
       "    </tr>\n",
       "  </tbody>\n",
       "</table>\n",
       "</div>"
      ],
      "text/plain": [
       "        month                              word  count\n",
       "0  2020-08-01                     Richard Jones      1\n",
       "1  2020-08-01                      Tiny program      1\n",
       "2  2020-08-01                           Red Hat      1\n",
       "3  2020-08-01              Virtualization Group      1\n",
       "4  2020-08-01                   Bad exit status      1\n",
       "5  2020-08-01            Permission deniederror      1\n",
       "6  2020-08-01                               bin      1\n",
       "7  2020-08-01  manypowerful monitoring features      1\n",
       "8  2020-08-01                             strip      1\n",
       "9  2020-08-01                  virtual machines      1"
      ]
     },
     "execution_count": 114,
     "metadata": {},
     "output_type": "execute_result"
    }
   ],
   "source": [
    "monthly_words_df.head(10)"
   ]
  },
  {
   "cell_type": "code",
   "execution_count": 117,
   "metadata": {
    "ExecuteTime": {
     "end_time": "2021-02-23T17:04:22.310672Z",
     "start_time": "2021-02-23T17:04:22.301250Z"
    }
   },
   "outputs": [
    {
     "data": {
      "text/html": [
       "<div>\n",
       "<style scoped>\n",
       "    .dataframe tbody tr th:only-of-type {\n",
       "        vertical-align: middle;\n",
       "    }\n",
       "\n",
       "    .dataframe tbody tr th {\n",
       "        vertical-align: top;\n",
       "    }\n",
       "\n",
       "    .dataframe thead th {\n",
       "        text-align: right;\n",
       "    }\n",
       "</style>\n",
       "<table border=\"1\" class=\"dataframe\">\n",
       "  <thead>\n",
       "    <tr style=\"text-align: right;\">\n",
       "      <th></th>\n",
       "      <th>month</th>\n",
       "      <th>word</th>\n",
       "      <th>count</th>\n",
       "    </tr>\n",
       "  </thead>\n",
       "  <tbody>\n",
       "    <tr>\n",
       "      <th>20</th>\n",
       "      <td>2020-08-01</td>\n",
       "      <td>ideas</td>\n",
       "      <td>1</td>\n",
       "    </tr>\n",
       "    <tr>\n",
       "      <th>21</th>\n",
       "      <td>2020-08-01</td>\n",
       "      <td>5A3ApT</td>\n",
       "      <td>1</td>\n",
       "    </tr>\n",
       "    <tr>\n",
       "      <th>22</th>\n",
       "      <td>2020-08-01</td>\n",
       "      <td>disk stats</td>\n",
       "      <td>1</td>\n",
       "    </tr>\n",
       "    <tr>\n",
       "      <th>23</th>\n",
       "      <td>2020-08-01</td>\n",
       "      <td>builddir</td>\n",
       "      <td>1</td>\n",
       "    </tr>\n",
       "    <tr>\n",
       "      <th>24</th>\n",
       "      <td>2020-08-01</td>\n",
       "      <td>build</td>\n",
       "      <td>1</td>\n",
       "    </tr>\n",
       "    <tr>\n",
       "      <th>25</th>\n",
       "      <td>2020-08-01</td>\n",
       "      <td>BUILDROOT</td>\n",
       "      <td>1</td>\n",
       "    </tr>\n",
       "    <tr>\n",
       "      <th>26</th>\n",
       "      <td>2020-08-01</td>\n",
       "      <td>brpstrip</td>\n",
       "      <td>1</td>\n",
       "    </tr>\n",
       "    <tr>\n",
       "      <th>27</th>\n",
       "      <td>2020-08-01</td>\n",
       "      <td>fc33</td>\n",
       "      <td>1</td>\n",
       "    </tr>\n",
       "    <tr>\n",
       "      <th>28</th>\n",
       "      <td>2020-08-01</td>\n",
       "      <td>omake</td>\n",
       "      <td>1</td>\n",
       "    </tr>\n",
       "    <tr>\n",
       "      <th>29</th>\n",
       "      <td>2020-08-01</td>\n",
       "      <td>tmp</td>\n",
       "      <td>1</td>\n",
       "    </tr>\n",
       "  </tbody>\n",
       "</table>\n",
       "</div>"
      ],
      "text/plain": [
       "         month        word  count\n",
       "20  2020-08-01       ideas      1\n",
       "21  2020-08-01      5A3ApT      1\n",
       "22  2020-08-01  disk stats      1\n",
       "23  2020-08-01    builddir      1\n",
       "24  2020-08-01       build      1\n",
       "25  2020-08-01   BUILDROOT      1\n",
       "26  2020-08-01    brpstrip      1\n",
       "27  2020-08-01        fc33      1\n",
       "28  2020-08-01       omake      1\n",
       "29  2020-08-01         tmp      1"
      ]
     },
     "execution_count": 117,
     "metadata": {},
     "output_type": "execute_result"
    }
   ],
   "source": [
    "monthly_words_df.tail(10)"
   ]
  },
  {
   "cell_type": "markdown",
   "metadata": {},
   "source": [
    "## Step 5: Save results\n",
    "\n"
   ]
  },
  {
   "cell_type": "code",
   "execution_count": 119,
   "metadata": {
    "ExecuteTime": {
     "end_time": "2021-02-23T17:05:29.249249Z",
     "start_time": "2021-02-23T17:05:29.242554Z"
    }
   },
   "outputs": [],
   "source": [
    "new_files = []\n",
    "dataset_base_path = Path(f\"{BASE_PATH}/processed/keywords/\")\n",
    "dataset_base_path.mkdir(parents=True, exist_ok=True)\n",
    "\n",
    "monthly_words_df.to_csv(\n",
    "    f\"{BASE_PATH}/processed/keywords/watson-nlu-keywords.csv\", header=False\n",
    ")\n",
    "new_files.append(f\"{BASE_PATH}/processed/keywords/watson-nlu-keywords.csv\")"
   ]
  },
  {
   "cell_type": "code",
   "execution_count": 120,
   "metadata": {
    "ExecuteTime": {
     "end_time": "2021-02-23T17:05:30.361840Z",
     "start_time": "2021-02-23T17:05:30.358387Z"
    }
   },
   "outputs": [],
   "source": [
    "if os.getenv(\"RUN_IN_AUTOMATION\"):\n",
    "    utils.upload_files(\n",
    "        (f, f\"processed/keywords/{Path(f).stem}.csv\") for f in new_files\n",
    "    )"
   ]
  },
  {
   "cell_type": "markdown",
   "metadata": {},
   "source": [
    "Copyright © 2019 IBM. This notebook and its source code are released under the terms of the MIT License."
   ]
  }
 ],
 "metadata": {
  "finalized": {
   "timestamp": 1613596226717,
   "trusted": false
  },
  "kernelspec": {
   "display_name": "Python 3",
   "language": "python",
   "name": "python3"
  },
  "language_info": {
   "codemirror_mode": {
    "name": "ipython",
    "version": 3
   },
   "file_extension": ".py",
   "mimetype": "text/x-python",
   "name": "python",
   "nbconvert_exporter": "python",
   "pygments_lexer": "ipython3",
   "version": "3.8.3"
  },
  "requirements": {
   "aliases": {},
   "dev-packages": {},
   "packages": {
    "ibm-cloud-sdk-core": "*",
    "ibm-watson": "*"
   },
   "requires": {
    "python_version": "3.8"
   },
   "sources": [
    {
     "name": "pypi",
     "url": "https://pypi.org/simple",
     "verify_ssl": true
    }
   ]
  },
  "toc": {
   "base_numbering": 1,
   "nav_menu": {},
   "number_sections": true,
   "sideBar": true,
   "skip_h1_title": false,
   "title_cell": "Table of Contents",
   "title_sidebar": "Contents",
   "toc_cell": false,
   "toc_position": {},
   "toc_section_display": true,
   "toc_window_display": false
  }
 },
 "nbformat": 4,
 "nbformat_minor": 1
}
